{
 "cells": [
  {
   "cell_type": "code",
   "execution_count": 1,
   "id": "12266918",
   "metadata": {},
   "outputs": [],
   "source": [
    "def minimum_number(source, target):\n",
    "    def number(i):\n",
    "        source_idx = 0 \n",
    "        target_idx = i\n",
    "        \n",
    "        # 迭代源和目标，将源中的字符与目标匹配\n",
    "        while target_idx < len(target) and source_idx < len(source):\n",
    "            if source[source_idx] == target[target_idx]:\n",
    "                target_idx += 1\n",
    "            source_idx += 1\n",
    "        # 如果到达目标末尾（即target_idx == len(target)），则所有字符均成功匹配，\n",
    "        return target_idx\n",
    "    \n",
    "    count = 0\n",
    "    current_position = 0\n",
    "    \n",
    "    while current_position < len(target):\n",
    "        new_position = number(current_position)\n",
    "        \n",
    "        # 如果位置没有前进，则代表源中没有与当前目标序列字符匹配的字符，即匹配失败\n",
    "        if new_position == current_position:\n",
    "            return -1\n",
    "        \n",
    "        # 如果位置前进，则继续匹配\n",
    "        current_position = new_position\n",
    "        count += 1\n",
    "    \n",
    "    # 如果current_position == len(target)则代表匹配已完成，返回源的使用次数\n",
    "    return count"
   ]
  },
  {
   "cell_type": "code",
   "execution_count": 2,
   "id": "febad30c",
   "metadata": {},
   "outputs": [
    {
     "name": "stdout",
     "output_type": "stream",
     "text": [
      "2\n"
     ]
    }
   ],
   "source": [
    "print(minimum_number(\"abc\", \"abcbc\"))"
   ]
  },
  {
   "cell_type": "code",
   "execution_count": 3,
   "id": "91a22fc4",
   "metadata": {},
   "outputs": [
    {
     "name": "stdout",
     "output_type": "stream",
     "text": [
      "-1\n"
     ]
    }
   ],
   "source": [
    "print(minimum_number(\"abc\", \"acdbc\"))"
   ]
  },
  {
   "cell_type": "code",
   "execution_count": 4,
   "id": "89284fdc",
   "metadata": {},
   "outputs": [
    {
     "name": "stdout",
     "output_type": "stream",
     "text": [
      "3\n"
     ]
    }
   ],
   "source": [
    "print(minimum_number(\"xyz\", \"xzyxz\"))"
   ]
  },
  {
   "cell_type": "code",
   "execution_count": null,
   "id": "4d72f89a",
   "metadata": {},
   "outputs": [
    {
     "name": "stdout",
     "output_type": "stream",
     "text": [
      "请输入表达式（输入 'exit' 退出）：\n",
      "bge))))))))) ((IIII)))))) ()()()()(uuu ))))UUUU((()\n",
      "bge))))))))) ((IIII)))))) ()()()()(uuu ))))UUUU((()\n",
      "   ?????????         ????               ???    xx  \n"
     ]
    }
   ],
   "source": [
    "# 检查括号匹配\n",
    "def check_brackets_balance(expression):\n",
    "    # 初始化错误标记数组，将其大小设置为表达式的长度，默认填充空格\n",
    "    error_marks = [' '] * len(expression)\n",
    "\n",
    "    # 左括号栈，存储未闭合的左括号字符及其索引位置\n",
    "    stack = []\n",
    "\n",
    "    # 左右括号的匹配关系\n",
    "    open_brackets = '([{'\n",
    "    close_brackets = ')]}'\n",
    "    bracket_map = {'(': ')', '[': ']', '{': '}'}\n",
    "\n",
    "    i = 0\n",
    "    while i < len(expression):\n",
    "        char = expression[i]\n",
    "\n",
    "        # 如果字符是左括号，将其推入栈\n",
    "        if char in open_brackets:\n",
    "            stack.append((char, i))  # 记录字符及其在表达式中的索引位置\n",
    "\n",
    "        # 如果字符是右括号，尝试匹配栈顶的左括号\n",
    "        elif char in close_brackets:\n",
    "            if stack and bracket_map[stack[-1][0]] == char:\n",
    "                stack.pop()  # 弹出与当前右括号匹配的左括号\n",
    "            else:\n",
    "                error_marks[i] = '?'  # 未匹配的右括号标记问号\n",
    "\n",
    "        i += 1  # 增加索引\n",
    "\n",
    "    # 处理所有未匹配的左括号，标记为 x\n",
    "    while stack:\n",
    "        _, index = stack.pop()\n",
    "        error_marks[index] = 'x'\n",
    "\n",
    "    # 返回标记后的错误信息字符串\n",
    "    return ''.join(error_marks)\n",
    "\n",
    "# 处理输入并检查括号\n",
    "def process_input():\n",
    "    print(\"请输入表达式（输入 'exit' 退出）：\")\n",
    "    while True:\n",
    "        expression = input().strip()\n",
    "\n",
    "        # 如果输入 'exit'，则退出循环\n",
    "        if expression.lower() == 'exit':\n",
    "            break\n",
    "\n",
    "        # 调用检查函数获取错误标记\n",
    "        error_marks = check_brackets_balance(expression)\n",
    "\n",
    "        # 打印表达式及其错误标记\n",
    "        print(expression)\n",
    "        print(error_marks)\n",
    "\n",
    "# 执行输入处理函数\n",
    "process_input()\n"
   ]
  },
  {
   "cell_type": "code",
   "execution_count": null,
   "id": "e39c17cf",
   "metadata": {},
   "outputs": [],
   "source": []
  }
 ],
 "metadata": {
  "kernelspec": {
   "display_name": "Python 3 (ipykernel)",
   "language": "python",
   "name": "python3"
  },
  "language_info": {
   "codemirror_mode": {
    "name": "ipython",
    "version": 3
   },
   "file_extension": ".py",
   "mimetype": "text/x-python",
   "name": "python",
   "nbconvert_exporter": "python",
   "pygments_lexer": "ipython3",
   "version": "3.11.4"
  }
 },
 "nbformat": 4,
 "nbformat_minor": 5
}
